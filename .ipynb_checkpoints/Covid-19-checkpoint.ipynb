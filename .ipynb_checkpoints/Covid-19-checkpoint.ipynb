{
 "cells": [
  {
   "cell_type": "code",
   "execution_count": null,
   "id": "25db96a0",
   "metadata": {},
   "outputs": [],
   "source": [
    "import numpy as np\n",
    "import pandas as pd\n",
    "import requests\n",
    "import calendar\n",
    "url = 'https://data.covid19india.org/v4/min/timeseries.min.json'"
   ]
  },
  {
   "cell_type": "code",
   "execution_count": null,
   "id": "c15ae5b2",
   "metadata": {},
   "outputs": [],
   "source": [
    "try:\n",
    "    response = requests.get(url)\n",
    "    response.raise_for_status()  # Raise an error for bad status codes\n",
    "    respond = response.json()\n",
    "except requests.exceptions.RequestException as e:\n",
    "    print(\"Error fetching data:\", e)\n",
    "    respond = None"
   ]
  },
  {
   "cell_type": "code",
   "execution_count": 1,
   "id": "81db0b3c",
   "metadata": {},
   "outputs": [],
   "source": [
    "# print(respond)"
   ]
  },
  {
   "cell_type": "code",
   "execution_count": null,
   "id": "f2c854ca",
   "metadata": {},
   "outputs": [],
   "source": [
    "states = list(respond.keys())\n",
    "print(states)"
   ]
  },
  {
   "cell_type": "code",
   "execution_count": null,
   "id": "9fee9b89",
   "metadata": {},
   "outputs": [],
   "source": [
    "if respond:\n",
    "    data = {\n",
    "        'states': [],\n",
    "        'month': [],\n",
    "        'year' : [],\n",
    "        'tested':[],\n",
    "        'confirmed' : [],\n",
    "        'deceased': [],\n",
    "        'recovered' : [],\n",
    "        'vaccinated1' : [],\n",
    "        'vaccinated2' : []\n",
    "    }\n",
    "\n",
    "    # Iterate over states\n",
    "    for state in states:\n",
    "        dates = list(respond[state]['dates'].keys())\n",
    "        years = [int(dates[0].split('-')[0])]\n",
    "        months = int(dates[0].split('-')[1])\n",
    "        years.append(int(dates[-1].split('-')[0]))\n",
    "\n",
    "        # Iterate over years\n",
    "        for year in years:\n",
    "\n",
    "            # Iterate over months\n",
    "            for month in range(months,12):\n",
    "                last_day = calendar.monthrange(year,month)[1]\n",
    "                last_date = f\"{year}-{month:02d}-{last_day:02d}\"\n",
    "\n",
    "                # Check if the last date exists in the data for the current state\n",
    "                if last_date in respond[state]['dates']:\n",
    "                    data['states'].append(state)\n",
    "                    data['month'].append(month)\n",
    "                    data['year'].append(year)\n",
    "                    result = respond[state]['dates'][last_date]['total']\n",
    "                    data['confirmed'].append(result.get('confirmed', np.nan))\n",
    "                    data['tested'].append(result.get('tested', np.nan))\n",
    "                    data['recovered'].append(result.get('recovered', np.nan))\n",
    "                    data['vaccinated1'].append(result.get('vaccinated1', np.nan))\n",
    "                    data['vaccinated2'].append(result.get('vaccinated2', np.nan))\n",
    "                    data['deceased'].append(result.get('deceased', np.nan))\n"
   ]
  },
  {
   "cell_type": "code",
   "execution_count": null,
   "id": "2282af3b",
   "metadata": {},
   "outputs": [],
   "source": [
    "df = pd.DataFrame(data)\n",
    "df.head()"
   ]
  },
  {
   "cell_type": "code",
   "execution_count": null,
   "id": "a2239366",
   "metadata": {},
   "outputs": [],
   "source": [
    "df.groupby(by=['states','year'],as_index=False)[['tested','confirmed','deceased','recovered','vaccinated1','vaccinated1']].sum()"
   ]
  },
  {
   "cell_type": "code",
   "execution_count": null,
   "id": "4c278e21",
   "metadata": {},
   "outputs": [],
   "source": []
  }
 ],
 "metadata": {
  "kernelspec": {
   "display_name": "Python 3 (ipykernel)",
   "language": "python",
   "name": "python3"
  },
  "language_info": {
   "codemirror_mode": {
    "name": "ipython",
    "version": 3
   },
   "file_extension": ".py",
   "mimetype": "text/x-python",
   "name": "python",
   "nbconvert_exporter": "python",
   "pygments_lexer": "ipython3",
   "version": "3.11.5"
  }
 },
 "nbformat": 4,
 "nbformat_minor": 5
}
